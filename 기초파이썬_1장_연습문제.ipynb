{
  "nbformat": 4,
  "nbformat_minor": 0,
  "metadata": {
    "colab": {
      "provenance": [],
      "include_colab_link": true
    },
    "kernelspec": {
      "name": "python3",
      "display_name": "Python 3"
    },
    "language_info": {
      "name": "python"
    }
  },
  "cells": [
    {
      "cell_type": "markdown",
      "metadata": {
        "id": "view-in-github",
        "colab_type": "text"
      },
      "source": [
        "<a href=\"https://colab.research.google.com/github/leeyujinn/22_10_1st_Report/blob/main/%EA%B8%B0%EC%B4%88%ED%8C%8C%EC%9D%B4%EC%8D%AC_1%EC%9E%A5_%EC%97%B0%EC%8A%B5%EB%AC%B8%EC%A0%9C.ipynb\" target=\"_parent\"><img src=\"https://colab.research.google.com/assets/colab-badge.svg\" alt=\"Open In Colab\"/></a>"
      ]
    },
    {
      "cell_type": "markdown",
      "source": [],
      "metadata": {
        "id": "l_N-zHOQKMQu"
      }
    },
    {
      "cell_type": "markdown",
      "source": [
        "1) \"환영합니다.\", \"파이썬의 세계에 오신 것을 환영합니다.\", \"파이썬은 강력합니다.\"를 화면에 출력하는 프로그램을 작성하시오. 스크립트 모드로 실행한다."
      ],
      "metadata": {
        "id": "n_s1Thv7HzzJ"
      }
    },
    {
      "cell_type": "code",
      "source": [
        "print(\"환영합니다.\")\n",
        "print(\"파이썬의 세계에 오신 것을 환영합니다.\")\n",
        "print(\"파이썬은 강력합니다.\")"
      ],
      "metadata": {
        "colab": {
          "base_uri": "https://localhost:8080/"
        },
        "id": "cbgxlfqbIC0S",
        "outputId": "3754295b-dfee-4311-94cd-bf965a691070"
      },
      "execution_count": null,
      "outputs": [
        {
          "output_type": "stream",
          "name": "stdout",
          "text": [
            "환영합니다.\n",
            "파이썬의 세계에 오신 것을 환영합니다.\n",
            "파이썬은 강력합니다.\n"
          ]
        }
      ]
    },
    {
      "cell_type": "markdown",
      "source": [
        "1-1) 1번 응용하기"
      ],
      "metadata": {
        "id": "T4uYugYTig0u"
      }
    },
    {
      "cell_type": "code",
      "source": [
        "name = input(\"당신의 이름은 무엇입니까? : \")\n",
        "print(name, \"님 안녕하세요.\")\n",
        "input(\"인사하기 : \")\n",
        "print(\"반갑습니다.\",name,\"님!\", \"저는 Python이라고 합니다.\")\n",
        "print(\"파이썬의 세계에 오신 것을 환영합니다.\")\n",
        "python = input(\"빈칸에 파이썬을 입력해 주세요. : \")\n",
        "print(python, \"은 강력합니다.\")\n",
        "print(name,\"님, 우리 함께\",python,\"의 매력 속으로 퐁당 빠져보아요!\")"
      ],
      "metadata": {
        "id": "OtJy0DscipYv",
        "outputId": "19078330-a64c-4be3-9994-989b7713ef18",
        "colab": {
          "base_uri": "https://localhost:8080/"
        }
      },
      "execution_count": 1,
      "outputs": [
        {
          "output_type": "stream",
          "name": "stdout",
          "text": [
            "당신의 이름은 무엇입니까? : 이유진\n",
            "이유진 님 안녕하세요.\n",
            "인사하기 : 안녕하세요\n",
            "반갑습니다. 이유진 님! 저는 Python이라고 합니다.\n",
            "파이썬의 세계에 오신 것을 환영합니다.\n",
            "빈칸에 파이썬을 입력해 주세요. : 파이썬\n",
            "파이썬 은 강력합니다.\n",
            "이유진 님, 우리 함께 파이썬 의 매력 속으로 퐁당 빠져보아요!\n"
          ]
        }
      ]
    },
    {
      "cell_type": "markdown",
      "source": [
        "2) 다음 프로그램의 실행 결과를 쓰시오."
      ],
      "metadata": {
        "id": "o6A5liXJJDyN"
      }
    },
    {
      "cell_type": "code",
      "source": [
        "print(\"반갑습니다. 파이썬!\")\n",
        "print(2*3/10)\n",
        "print(\"Hello\", \"world\", \"!!!\")"
      ],
      "metadata": {
        "colab": {
          "base_uri": "https://localhost:8080/"
        },
        "id": "niHKVCZAJPDz",
        "outputId": "e8586480-e856-441a-f1b6-8d3a9600083d"
      },
      "execution_count": null,
      "outputs": [
        {
          "output_type": "stream",
          "name": "stdout",
          "text": [
            "반갑습니다. 파이썬!\n",
            "0.6\n",
            "Hello world !!!\n"
          ]
        }
      ]
    },
    {
      "cell_type": "markdown",
      "source": [
        "2-1) 2번 응용하기"
      ],
      "metadata": {
        "id": "jkKdC3FbkBVA"
      }
    },
    {
      "cell_type": "code",
      "source": [
        "input(\"'반갑습니다. 파이썬!'을 화면에 출력하는 프로그램을 작성해 주세요. : \")\n",
        "print(\"정답은 'print('반갑습니다. 파이썬')'입니다!\")\n",
        "answer = input(\"그렇다면 다음문제! print를 이용해서 '2 곱하기 3 나누기 10'을 계산하는 프로그램을 작성해해 보세요. : \")\n",
        "print(\"정답은 'print(2*3/10)입니다. 맞게 작성하셨나요?\" \"본인이 작성한 답과 비교해 봅시다! 당신이 입력한 답 :\", answer)\n",
        "helloworld = input(\"그렇다면 마지막 문제입니다! 'print를 이용하여 ('Hello', 'world','!!!')가 이어지게 입력해 보세요! : \")\n",
        "print(\"입력한 결과는 Hello world !!!입니다. 당신이 입력한 답 :\", helloworld)\n",
        "score = input(\"맞은 개수를 입력해 주세요. : \")\n",
        "print(\"당신은 3문제 중\",score,\"개를 맞았습니다. 점수에 만족하시나요?\")\n",
        "print(\"수고하셨습니다.\")"
      ],
      "metadata": {
        "id": "iq_NFeYdkFp4",
        "outputId": "dfebd384-bb76-4b51-8839-293e1b7d2d07",
        "colab": {
          "base_uri": "https://localhost:8080/"
        }
      },
      "execution_count": 5,
      "outputs": [
        {
          "output_type": "stream",
          "name": "stdout",
          "text": [
            "'반갑습니다. 파이썬!'을 화면에 출력하는 프로그램을 작성해 주세요. : print(\"반갑습니다. 파이썬!\")\n",
            "정답은 'print('반갑습니다. 파이썬')'입니다!\n",
            "그렇다면 다음문제! print를 이용해서 '2 곱하기 3 나누기 10'을 계산해 보세요. : print(2*3/10)\n",
            "정답은 'print(2*3/10)입니다. 맞게 작성하셨나요?본인이 작성한 답과 비교해 봅시다! 당신이 입력한 답 : print(2*3/10)\n",
            "그렇다면 마지막 문제입니다! 'print를 이용하여 ('Hello', 'world','!!!')가 이어지게 입력해 보세요! : print(\"Hello\", \"world\", \"!!!\")\n",
            "입력한 결과는 Hello world !!!입니다. 당신이 입력한 답 : print(\"Hello\", \"world\", \"!!!\")\n",
            "맞은 개수를 입력해 주세요. : 3\n",
            "당신은 3문제 중 3 개를 맞았습니다. 점수에 만족하시나요?\n",
            "수고하셨습니다.\n"
          ]
        }
      ]
    },
    {
      "cell_type": "markdown",
      "source": [
        "3) 파이썬 쉘을 사용하여서 한 주가 몇 시간에 해당하는지를 계산해보자."
      ],
      "metadata": {
        "id": "-OU15iEnK89t"
      }
    },
    {
      "cell_type": "code",
      "source": [
        "print(7*24)"
      ],
      "metadata": {
        "colab": {
          "base_uri": "https://localhost:8080/"
        },
        "id": "efrnTco6LL-_",
        "outputId": "93fe1a65-0ab0-4f27-f931-9c37a0b42a09"
      },
      "execution_count": null,
      "outputs": [
        {
          "output_type": "stream",
          "name": "stdout",
          "text": [
            "168\n"
          ]
        }
      ]
    },
    {
      "cell_type": "markdown",
      "source": [
        "3-1) 3번 응용하기기"
      ],
      "metadata": {
        "id": "666-sEJI08ux"
      }
    },
    {
      "cell_type": "code",
      "source": [
        "print(\"한 주가 몇 시간인지 알아볼까요?\")\n",
        "days = int(input(\"일주일은 며칠입니까?(숫자만 입력하기) : \"))\n",
        "times = int(input(\"하루는 몇 시간으로 이루어져 있습니까?(숫자만 입력하기) : \"))\n",
        "print(\"일주일은\",days,\"일이고\",\"하루는\",times, \"시간입니다.\")\n",
        "print(\"따라서 일주일은\",days*times,\"시간입니다.\")"
      ],
      "metadata": {
        "id": "AbnZ5ubK1Apj",
        "outputId": "711cd2db-7168-4ac9-c52e-ced32c9c2b1f",
        "colab": {
          "base_uri": "https://localhost:8080/"
        }
      },
      "execution_count": 9,
      "outputs": [
        {
          "output_type": "stream",
          "name": "stdout",
          "text": [
            "한 주가 몇 시간인지 알아볼까요?\n",
            "일주일은 며칠입니까?(숫자만 입력하기) : 7\n",
            "하루는 몇 시간으로 이루어져 있습니까?(숫자만 입력하기기) : 24\n",
            "일주일은 7 일이고 하루는 24 시간입니다.\n",
            "따라서 일주일은 168 시간입니다.\n"
          ]
        }
      ]
    }
  ]
}